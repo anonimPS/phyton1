{
 "cells": [
  {
   "cell_type": "code",
   "execution_count": null,
   "metadata": {},
   "outputs": [],
   "source": []
  },
  {
   "cell_type": "code",
   "execution_count": 22,
   "metadata": {},
   "outputs": [
    {
     "name": "stdout",
     "output_type": "stream",
     "text": [
      "20\n",
      "none\n"
     ]
    }
   ],
   "source": [
    "def arithmetic(x,y,r):\n",
    "    if r == '+':\n",
    "        print(x+y)\n",
    "    if r == '-':\n",
    "        print(x-y)\n",
    "    if r == '*':\n",
    "        print(x*y)\n",
    "    if r == '/':\n",
    "        print(x/y)\n",
    "    else:\n",
    "        print('none')\n",
    "        \n",
    "arithmetic(10,2,'*')\n",
    "    \n",
    "    "
   ]
  }
 ],
 "metadata": {
  "kernelspec": {
   "display_name": "Python 3",
   "language": "python",
   "name": "python3"
  },
  "language_info": {
   "codemirror_mode": {
    "name": "ipython",
    "version": 3
   },
   "file_extension": ".py",
   "mimetype": "text/x-python",
   "name": "python",
   "nbconvert_exporter": "python",
   "pygments_lexer": "ipython3",
   "version": "3.6.5"
  }
 },
 "nbformat": 4,
 "nbformat_minor": 2
}
