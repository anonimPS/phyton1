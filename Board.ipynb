{
 "cells": [
  {
   "cell_type": "code",
   "execution_count": 10,
   "metadata": {},
   "outputs": [
    {
     "name": "stdout",
     "output_type": "stream",
     "text": [
      "    | |  \n",
      "-----------\n",
      "    | |  \n",
      "-----------\n",
      "    | |  \n"
     ]
    }
   ],
   "source": [
    "from IPython.display import clear_output\n",
    "\n",
    "board = [''] * 10\n",
    "\n",
    "def reset_board():\n",
    "    global board, game_state\n",
    "    board = [' '] * 10\n",
    "    game_state = True\n",
    "    \n",
    "    \n",
    "    \n",
    "\n",
    "def display_board():\n",
    "    \n",
    "    '''Ця функция виводить полеХ Х/0'''\n",
    "    clear_output()\n",
    "    print (\"   \"+board[7]+\" |\"+board[8]+\" | \"+board[9]+\" \")\n",
    "    print (\"-----------\")\n",
    "    print (\"   \"+board[4]+\" |\"+board[5]+\" | \"+board[6]+\" \")\n",
    "    print (\"-----------\")\n",
    "    print (\"   \"+board[1]+\" |\"+board[2]+\" | \"+board[3]+\" \")\n",
    "    \n",
    "display_board()\n"
   ]
  },
  {
   "cell_type": "code",
   "execution_count": 11,
   "metadata": {},
   "outputs": [],
   "source": [
    "def win_check(board, player):\n",
    "    '''Check Horizontals, Verticals, and Diagonals for a win'''\n",
    "    if (board[7] == board[8] == board[9] == player) or \\\n",
    "        (board[4] == board[5] == board[6] == player) or \\\n",
    "        (board[1] == board[2] == board[3] == player) or \\\n",
    "        (board[7] == board[4] == board[1] == player) or \\\n",
    "        (board[8] == board[5] == board[2] == player) or \\\n",
    "        (board[9] == board[6] == board[3] == player) or \\\n",
    "        (board[1] == board[5] == board[9] == player) or \\\n",
    "        (board[3] == board[5] == board[7] == player):\n",
    "        return True\n",
    "    else:\n",
    "        return False"
   ]
  },
  {
   "cell_type": "code",
   "execution_count": 12,
   "metadata": {},
   "outputs": [],
   "source": [
    "def full_board_check(board):\n",
    "        #Function to check if any remaining blanks are in rhe board\n",
    "    if \" \" in board[1:]:\n",
    "        return False\n",
    "    else:\n",
    "        return True"
   ]
  },
  {
   "cell_type": "code",
   "execution_count": 13,
   "metadata": {},
   "outputs": [],
   "source": [
    "def ask_player(mark):\n",
    "    '''Asks plaeyr where to plase X or O mark, cheks validity'''\n",
    "    global board\n",
    "    req ='Choose where to plase your: ' + mark\n",
    "    while True:\n",
    "        try:\n",
    "            choice =int(input(req))\n",
    "        except ValueError:\n",
    "            print(\"Sory, please input a number between 1-9.\")\n",
    "            continue\n",
    "            \n",
    "        if choice not in range(1,10):\n",
    "            print(\"Sory, please input a number between 1-9.\")\n",
    "            continue\n",
    "            \n",
    "        if board(choice) == \" \":\n",
    "            board(choice) == mark\n",
    "            break\n",
    "        else:\n",
    "            print(\"That space isn't empty\")\n",
    "            continue"
   ]
  },
  {
   "cell_type": "code",
   "execution_count": 14,
   "metadata": {},
   "outputs": [],
   "source": [
    "def plaeyr_choice(mark):\n",
    "    global board,game_state,announce\n",
    "    #Set game blank game announcement\n",
    "    announce = ''\n",
    "    #Get Player Input\n",
    "    mark = str(mark)\n",
    "    #Validate input\n",
    "    ask_player(mark)\n",
    "    \n",
    "    #Check for player win\n",
    "    if win_check(board,mark):\n",
    "        clear_output()\n",
    "        display_board()\n",
    "        announce = mark +\" wins! Congratulations\"\n",
    "        game_state = False\n",
    "        \n",
    "    #Show board\n",
    "    clear_output()\n",
    "    display_board()\n",
    "    \n",
    "    #Check for a tie\n",
    "    if full_board_check(board):\n",
    "        announce = \"Tie!\"\n",
    "        game_state = False\n",
    "        \n",
    "    return game_state,announce\n",
    "\n",
    "            "
   ]
  },
  {
   "cell_type": "code",
   "execution_count": 17,
   "metadata": {},
   "outputs": [
    {
     "name": "stdout",
     "output_type": "stream",
     "text": [
      "     |  |   \n",
      "-----------\n",
      "     |  |   \n",
      "-----------\n",
      "     |  |   \n"
     ]
    },
    {
     "ename": "NameError",
     "evalue": "name 'player_choice' is not defined",
     "output_type": "error",
     "traceback": [
      "\u001b[0;31m---------------------------------------------------------------------------\u001b[0m",
      "\u001b[0;31mNameError\u001b[0m                                 Traceback (most recent call last)",
      "\u001b[0;32m<ipython-input-17-19119f83b5d0>\u001b[0m in \u001b[0;36m<module>\u001b[0;34m()\u001b[0m\n\u001b[1;32m     27\u001b[0m         \u001b[0mprint\u001b[0m\u001b[0;34m(\u001b[0m\u001b[0;34m\"Thanks for playing!\"\u001b[0m\u001b[0;34m)\u001b[0m\u001b[0;34m\u001b[0m\u001b[0m\n\u001b[1;32m     28\u001b[0m \u001b[0;34m\u001b[0m\u001b[0m\n\u001b[0;32m---> 29\u001b[0;31m \u001b[0mplay_game\u001b[0m\u001b[0;34m(\u001b[0m\u001b[0;34m)\u001b[0m\u001b[0;34m\u001b[0m\u001b[0m\n\u001b[0m",
      "\u001b[0;32m<ipython-input-17-19119f83b5d0>\u001b[0m in \u001b[0;36mplay_game\u001b[0;34m()\u001b[0m\n\u001b[1;32m     10\u001b[0m         \u001b[0mclear_output\u001b[0m\u001b[0;34m(\u001b[0m\u001b[0;34m)\u001b[0m\u001b[0;34m\u001b[0m\u001b[0m\n\u001b[1;32m     11\u001b[0m         \u001b[0mdisplay_board\u001b[0m\u001b[0;34m(\u001b[0m\u001b[0;34m)\u001b[0m\u001b[0;34m\u001b[0m\u001b[0m\n\u001b[0;32m---> 12\u001b[0;31m         \u001b[0mgame_state\u001b[0m\u001b[0;34m,\u001b[0m\u001b[0mannounce\u001b[0m \u001b[0;34m=\u001b[0m \u001b[0mplayer_choice\u001b[0m\u001b[0;34m(\u001b[0m\u001b[0mX\u001b[0m\u001b[0;34m)\u001b[0m\u001b[0;34m\u001b[0m\u001b[0m\n\u001b[0m\u001b[1;32m     13\u001b[0m         \u001b[0mprint\u001b[0m\u001b[0;34m(\u001b[0m\u001b[0mannounce\u001b[0m\u001b[0;34m)\u001b[0m\u001b[0;34m\u001b[0m\u001b[0m\n\u001b[1;32m     14\u001b[0m         \u001b[0;32mif\u001b[0m \u001b[0mgame_state\u001b[0m \u001b[0;34m==\u001b[0m \u001b[0;32mFalse\u001b[0m\u001b[0;34m:\u001b[0m\u001b[0;34m\u001b[0m\u001b[0m\n",
      "\u001b[0;31mNameError\u001b[0m: name 'player_choice' is not defined"
     ]
    }
   ],
   "source": [
    "def play_game():\n",
    "    reset_board()\n",
    "    global announce\n",
    "    \n",
    "    #Set marks\n",
    "    X='X'\n",
    "    O='O'\n",
    "    while True:\n",
    "        #show board\n",
    "        clear_output()\n",
    "        display_board()\n",
    "        game_state,announce = player_choice(X)\n",
    "        print(announce)\n",
    "        if game_state == False:\n",
    "            break\n",
    "            \n",
    "        game_state,announce = player_choice(O)\n",
    "        print (announce)\n",
    "        if game_state == False:\n",
    "            break\n",
    "            \n",
    " \n",
    "    rematch = input('Would you like to play again y/n')\n",
    "    if rematche == 'y':\n",
    "        play_game()\n",
    "    else:\n",
    "        print(\"Thanks for playing!\")\n",
    "            \n",
    "play_game()"
   ]
  },
  {
   "cell_type": "code",
   "execution_count": null,
   "metadata": {},
   "outputs": [],
   "source": []
  },
  {
   "cell_type": "code",
   "execution_count": null,
   "metadata": {},
   "outputs": [],
   "source": []
  },
  {
   "cell_type": "code",
   "execution_count": null,
   "metadata": {},
   "outputs": [],
   "source": []
  },
  {
   "cell_type": "code",
   "execution_count": null,
   "metadata": {},
   "outputs": [],
   "source": []
  }
 ],
 "metadata": {
  "kernelspec": {
   "display_name": "Python 3",
   "language": "python",
   "name": "python3"
  },
  "language_info": {
   "codemirror_mode": {
    "name": "ipython",
    "version": 3
   },
   "file_extension": ".py",
   "mimetype": "text/x-python",
   "name": "python",
   "nbconvert_exporter": "python",
   "pygments_lexer": "ipython3",
   "version": "3.5.2"
  }
 },
 "nbformat": 4,
 "nbformat_minor": 2
}
